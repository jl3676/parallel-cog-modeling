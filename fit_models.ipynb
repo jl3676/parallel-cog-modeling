{
 "cells": [
  {
   "cell_type": "code",
   "execution_count": 2,
   "metadata": {},
   "outputs": [],
   "source": [
    "%load_ext autoreload\n",
    "%autoreload 2\n",
    "\n",
    "import numpy as np\n",
    "import matplotlib.pyplot as plt\n",
    "import src.modeling as modeling"
   ]
  },
  {
   "cell_type": "markdown",
   "metadata": {},
   "source": [
    "# Simulate data"
   ]
  },
  {
   "cell_type": "code",
   "execution_count": 3,
   "metadata": {},
   "outputs": [],
   "source": [
    "# Define the task environment\n",
    "env_name = 'ProbabilisticReversalEnvironment'\n",
    "states = [0]\n",
    "actions = [0, 1]\n",
    "n_trials_per_episode = 50\n",
    "n_episodes = 10\n",
    "p_reward_correct = 0.8\n",
    "p_reward_incorrect = 0.2\n",
    "env_class = getattr(modeling, env_name)\n",
    "env = env_class(states, actions, n_trials_per_episode, n_episodes, p_reward_correct, p_reward_incorrect)\n",
    "\n",
    "# Define the generative model\n",
    "model_name = 'StickyRLModel'\n",
    "param_names = ['alpha', 'beta', 'stickiness']\n",
    "param_bounds = [[1e-6, 1], [1e-6, 10], [-1, 1]]\n",
    "model_class = getattr(modeling, model_name)\n",
    "agent = model_class(env, param_names, param_bounds)\n",
    "\n",
    "# Simulate data\n",
    "n_participants = 10\n",
    "n_iters = 1\n",
    "data = agent.simulate(n_participants, n_iters)\n"
   ]
  },
  {
   "cell_type": "markdown",
   "metadata": {},
   "source": [
    "# Fit models"
   ]
  },
  {
   "cell_type": "code",
   "execution_count": 4,
   "metadata": {},
   "outputs": [
    {
     "name": "stdout",
     "output_type": "stream",
     "text": [
      "Fitting 2 models with 10 participants using mle method\n",
      "Using at most 8 parallel processes\n"
     ]
    }
   ],
   "source": [
    "# Define the models to fit\n",
    "model_names = ['RLModel', 'StickyRLModel']\n",
    "param_names = [['alpha', 'beta'], ['alpha', 'beta', 'stickiness']]\n",
    "param_bounds = [[[1e-6, 1], [1e-6, 10]], [[1e-6, 1], [1e-6, 10], [-1, 1]]]\n",
    "\n",
    "# Define the optimization method\n",
    "optimization_method = 'mle'\n",
    "\n",
    "# Define the optimizer\n",
    "optimizer = modeling.Optimizer()\n",
    "# Fit the models\n",
    "best_params_all, best_nllh_all = optimizer.fit(env, data, model_names, param_names, param_bounds, optimization_method)"
   ]
  },
  {
   "cell_type": "markdown",
   "metadata": {},
   "source": [
    "# Compute fit metrics"
   ]
  },
  {
   "cell_type": "code",
   "execution_count": null,
   "metadata": {},
   "outputs": [
    {
     "ename": "NameError",
     "evalue": "name 'np' is not defined",
     "output_type": "error",
     "traceback": [
      "\u001b[0;31m---------------------------------------------------------------------------\u001b[0m",
      "\u001b[0;31mNameError\u001b[0m                                 Traceback (most recent call last)",
      "Cell \u001b[0;32mIn[1], line 1\u001b[0m\n\u001b[0;32m----> 1\u001b[0m n_params \u001b[38;5;241m=\u001b[39m \u001b[43mnp\u001b[49m\u001b[38;5;241m.\u001b[39marray([\u001b[38;5;28mlen\u001b[39m(param_names[\u001b[38;5;241m0\u001b[39m]), \u001b[38;5;28mlen\u001b[39m(param_names[\u001b[38;5;241m1\u001b[39m])])\n\u001b[1;32m      2\u001b[0m colors \u001b[38;5;241m=\u001b[39m [\u001b[38;5;124m'\u001b[39m\u001b[38;5;124mcornflowerblue\u001b[39m\u001b[38;5;124m'\u001b[39m, \u001b[38;5;124m'\u001b[39m\u001b[38;5;124mhotpink\u001b[39m\u001b[38;5;124m'\u001b[39m]\n\u001b[1;32m      4\u001b[0m \u001b[38;5;66;03m# plot results\u001b[39;00m\n",
      "\u001b[0;31mNameError\u001b[0m: name 'np' is not defined"
     ]
    }
   ],
   "source": [
    "n_params = np.array([len(param_names[0]), len(param_names[1])])\n",
    "colors = ['cornflowerblue', 'hotpink']\n",
    "\n",
    "# Plot results\n",
    "plt.figure(figsize=(10, 6))\n",
    "for metric_i, metric in enumerate([\"AIC\", \"BIC\"]):\n",
    "    plt.subplot(1, 2, metric_i + 1)\n",
    "    scores = optimizer.compute_fit_metric(best_nllh_all, n_params, data, metric)\n",
    "    mean_scores = np.mean(scores, axis=1)\n",
    "    sem_scores = np.std(scores, axis=1) / np.sqrt(scores.shape[1])\n",
    "    plt.bar(model_names, mean_scores, color=colors, yerr=sem_scores, capsize=10, alpha=0.3)\n",
    "\n",
    "    for m in range(len(model_names)):\n",
    "        plt.scatter(m+np.random.normal(0, 0.05, size=scores[m].shape), scores[m], linewidth=0, alpha=0.9, color=colors[m])\n",
    "\n",
    "    plt.xlabel('Model')\n",
    "    plt.ylabel(metric)\n",
    "    plt.title(f'{metric}')\n",
    "plt.tight_layout()\n",
    "plt.show()\n"
   ]
  }
 ],
 "metadata": {
  "kernelspec": {
   "display_name": "att",
   "language": "python",
   "name": "python3"
  },
  "language_info": {
   "codemirror_mode": {
    "name": "ipython",
    "version": 3
   },
   "file_extension": ".py",
   "mimetype": "text/x-python",
   "name": "python",
   "nbconvert_exporter": "python",
   "pygments_lexer": "ipython3",
   "version": "3.10.16"
  }
 },
 "nbformat": 4,
 "nbformat_minor": 2
}
